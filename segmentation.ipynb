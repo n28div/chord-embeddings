{
 "cells": [
  {
   "cell_type": "code",
   "execution_count": 1,
   "metadata": {},
   "outputs": [
    {
     "name": "stderr",
     "output_type": "stream",
     "text": [
      "Global seed set to 42\n"
     ]
    },
    {
     "data": {
      "text/plain": [
       "42"
      ]
     },
     "execution_count": 1,
     "metadata": {},
     "output_type": "execute_result"
    }
   ],
   "source": [
    "from tqdm.notebook import tqdm\n",
    "\n",
    "import pandas as pd\n",
    "import numpy as np\n",
    "\n",
    "import pytorch_lightning as pl\n",
    "from pitchclass2vec import encoding, model\n",
    "from pitchclass2vec.pitchclass2vec import Pitchclass2VecModel\n",
    "from tasks.segmentation.data import BillboardDataset, SegmentationDataModule\n",
    "from tasks.segmentation.functional import LSTMBaselineModel\n",
    "\n",
    "from evaluate import load_pitchclass2vec_model\n",
    "\n",
    "RANDOM_SEED = 42\n",
    "pl.seed_everything(seed=RANDOM_SEED)"
   ]
  },
  {
   "cell_type": "markdown",
   "metadata": {},
   "source": [
    "# Segmentation baseline"
   ]
  },
  {
   "cell_type": "code",
   "execution_count": 5,
   "metadata": {},
   "outputs": [],
   "source": [
    "EXP = [\n",
    "    #(\"text\", \"fasttext\", \"out/fasttext_best/model.ckpt\"),\n",
    "    (\"timed-root-interval\", \"emb-weighted-fasttext\", \"out/rootinterval_best/model.ckpt\"),\n",
    "    #(\"rdf\", \"randomwalk-rdf2vec\", \"out/rdf2vec_best/model.ckpt\"),\n",
    "]\n",
    "\n",
    "  \n",
    "experiments_df = pd.DataFrame(columns=[\n",
    "    \"encoding\", \"model\", \"path\", \"test_p_precision\", \"test_p_recall\",  \"test_p_f1\",  \"test_under\",  \"test_over\",  \"test_under_over_f1\"\n",
    "])"
   ]
  },
  {
   "cell_type": "code",
   "execution_count": 6,
   "metadata": {},
   "outputs": [
    {
     "data": {
      "application/vnd.jupyter.widget-view+json": {
       "model_id": "76b5008c7e264352963a380adc92cf68",
       "version_major": 2,
       "version_minor": 0
      },
      "text/plain": [
       "  0%|          | 0/1 [00:00<?, ?it/s]"
      ]
     },
     "metadata": {},
     "output_type": "display_data"
    },
    {
     "name": "stderr",
     "output_type": "stream",
     "text": [
      "\n",
      "  0%|                                                                                                                                                              | 0/890 [00:00<?, ?it/s]\u001b[A\n",
      "  9%|█████████████▏                                                                                                                                      | 79/890 [00:00<00:01, 789.24it/s]\u001b[A\n",
      " 18%|██████████████████████████▉                                                                                                                        | 163/890 [00:00<00:00, 814.63it/s]\u001b[A\n",
      " 28%|████████████████████████████████████████▍                                                                                                          | 245/890 [00:00<00:00, 810.50it/s]\u001b[A\n",
      " 37%|██████████████████████████████████████████████████████                                                                                             | 327/890 [00:00<00:00, 811.24it/s]\u001b[A\n",
      " 46%|███████████████████████████████████████████████████████████████████▉                                                                               | 411/890 [00:00<00:00, 819.49it/s]\u001b[A\n",
      " 55%|█████████████████████████████████████████████████████████████████████████████████▍                                                                 | 493/890 [00:00<00:00, 812.11it/s]\u001b[A\n",
      " 65%|███████████████████████████████████████████████████████████████████████████████████████████████▏                                                   | 576/890 [00:00<00:00, 814.79it/s]\u001b[A\n",
      " 74%|████████████████████████████████████████████████████████████████████████████████████████████████████████████▋                                      | 658/890 [00:00<00:00, 814.09it/s]\u001b[A\n",
      " 83%|██████████████████████████████████████████████████████████████████████████████████████████████████████████████████████████▏                        | 740/890 [00:00<00:00, 810.83it/s]\u001b[A\n",
      " 92%|███████████████████████████████████████████████████████████████████████████████████████████████████████████████████████████████████████▊           | 822/890 [00:01<00:00, 813.56it/s]\u001b[A"
     ]
    },
    {
     "name": "stdout",
     "output_type": "stream",
     "text": [
      "Track 974 not parsable\n"
     ]
    },
    {
     "name": "stderr",
     "output_type": "stream",
     "text": [
      "100%|███████████████████████████████████████████████████████████████████████████████████████████████████████████████████████████████████████████████████| 890/890 [00:01<00:00, 813.69it/s]\n",
      "/home/nicolas/pitchclass2vec/.venv/lib/python3.10/site-packages/pytorch_lightning/trainer/trainer.py:1555: PossibleUserWarning: The number of training batches (3) is smaller than the logging interval Trainer(log_every_n_steps=50). Set a lower value for log_every_n_steps if you want to see logs for the training epoch.\n",
      "  rank_zero_warn(\n",
      "\n",
      "  0%|                                                                                                                                                              | 0/890 [00:00<?, ?it/s]\u001b[A\n",
      "  9%|█████████████▋                                                                                                                                      | 82/890 [00:00<00:00, 815.61it/s]\u001b[A\n",
      " 18%|███████████████████████████                                                                                                                        | 164/890 [00:00<00:00, 817.10it/s]\u001b[A\n",
      " 28%|████████████████████████████████████████▋                                                                                                          | 246/890 [00:00<00:00, 813.54it/s]\u001b[A\n",
      " 37%|██████████████████████████████████████████████████████▏                                                                                            | 328/890 [00:00<00:00, 805.02it/s]\u001b[A\n",
      " 46%|███████████████████████████████████████████████████████████████████▌                                                                               | 409/890 [00:00<00:00, 806.53it/s]\u001b[A\n",
      " 55%|█████████████████████████████████████████████████████████████████████████████████                                                                  | 491/890 [00:00<00:00, 808.20it/s]\u001b[A\n",
      " 65%|██████████████████████████████████████████████████████████████████████████████████████████████▉                                                    | 575/890 [00:00<00:00, 816.25it/s]\u001b[A\n",
      " 74%|████████████████████████████████████████████████████████████████████████████████████████████████████████████▌                                      | 657/890 [00:00<00:00, 810.23it/s]\u001b[A\n",
      " 83%|██████████████████████████████████████████████████████████████████████████████████████████████████████████████████████████▏                        | 740/890 [00:00<00:00, 813.23it/s]\u001b[A\n",
      " 92%|███████████████████████████████████████████████████████████████████████████████████████████████████████████████████████████████████████▉           | 823/890 [00:01<00:00, 818.06it/s]\u001b[A"
     ]
    },
    {
     "name": "stdout",
     "output_type": "stream",
     "text": [
      "Track 974 not parsable\n"
     ]
    },
    {
     "name": "stderr",
     "output_type": "stream",
     "text": [
      "100%|███████████████████████████████████████████████████████████████████████████████████████████████████████████████████████████████████████████████████| 890/890 [00:01<00:00, 814.85it/s]\n"
     ]
    },
    {
     "name": "stdout",
     "output_type": "stream",
     "text": [
      "────────────────────────────────────────────────────────────────────────────────────────────────────────────────────────\n",
      "       Test metric             DataLoader 0\n",
      "────────────────────────────────────────────────────────────────────────────────────────────────────────────────────────\n",
      "        test_loss           0.5265165567398071\n",
      "        test_over           0.9863528000290747\n",
      "        test_p_f1           0.5928337247292093\n",
      "    test_p_precision        0.6138726851018923\n",
      "      test_p_recall         0.6105689214759769\n",
      "       test_under            0.986965474488972\n",
      "   test_under_over_f1       0.9866590421476571\n",
      "────────────────────────────────────────────────────────────────────────────────────────────────────────────────────────\n"
     ]
    },
    {
     "name": "stderr",
     "output_type": "stream",
     "text": [
      "/tmp/ipykernel_393440/3128048165.py:14: FutureWarning: The frame.append method is deprecated and will be removed from pandas in a future version. Use pandas.concat instead.\n",
      "  experiments_df = experiments_df.append({\n"
     ]
    }
   ],
   "source": [
    "import logging\n",
    "logging.disable(logging.CRITICAL)\n",
    "\n",
    "\n",
    "for exp in tqdm(EXP):    \n",
    "    p2v = load_pitchclass2vec_model(*exp)\n",
    "    data = SegmentationDataModule(BillboardDataset, p2v, 256)\n",
    "        \n",
    "    lstm_model = LSTMBaselineModel(embedding_dim=p2v.vector_size, hidden_size=256, num_layers=5, dropout=0.2, learning_rate=0.001)\n",
    "    trainer = pl.Trainer(max_epochs=150, accelerator=\"auto\", devices=1,\n",
    "                         enable_progress_bar=False)\n",
    "    trainer.fit(lstm_model, data)\n",
    "    test_metrics = trainer.test(lstm_model, data)\n",
    "    experiments_df = experiments_df.append({\n",
    "        \"encoding\": exp[0], \"model\": exp[1], \"path\": exp[2],\n",
    "        **test_metrics[0]\n",
    "    }, ignore_index=True)"
   ]
  },
  {
   "cell_type": "code",
   "execution_count": 7,
   "metadata": {},
   "outputs": [
    {
     "data": {
      "text/html": [
       "<div>\n",
       "<style scoped>\n",
       "    .dataframe tbody tr th:only-of-type {\n",
       "        vertical-align: middle;\n",
       "    }\n",
       "\n",
       "    .dataframe tbody tr th {\n",
       "        vertical-align: top;\n",
       "    }\n",
       "\n",
       "    .dataframe thead th {\n",
       "        text-align: right;\n",
       "    }\n",
       "</style>\n",
       "<table border=\"1\" class=\"dataframe\">\n",
       "  <thead>\n",
       "    <tr style=\"text-align: right;\">\n",
       "      <th></th>\n",
       "      <th>encoding</th>\n",
       "      <th>model</th>\n",
       "      <th>path</th>\n",
       "      <th>test_p_precision</th>\n",
       "      <th>test_p_recall</th>\n",
       "      <th>test_p_f1</th>\n",
       "      <th>test_under</th>\n",
       "      <th>test_over</th>\n",
       "      <th>test_under_over_f1</th>\n",
       "      <th>test_loss</th>\n",
       "    </tr>\n",
       "  </thead>\n",
       "  <tbody>\n",
       "    <tr>\n",
       "      <th>0</th>\n",
       "      <td>timed-root-interval</td>\n",
       "      <td>emb-weighted-fasttext</td>\n",
       "      <td>out/rootinterval_best/model.ckpt</td>\n",
       "      <td>0.613873</td>\n",
       "      <td>0.610569</td>\n",
       "      <td>0.592834</td>\n",
       "      <td>0.986965</td>\n",
       "      <td>0.986353</td>\n",
       "      <td>0.986659</td>\n",
       "      <td>0.526517</td>\n",
       "    </tr>\n",
       "  </tbody>\n",
       "</table>\n",
       "</div>"
      ],
      "text/plain": [
       "              encoding                  model  \\\n",
       "0  timed-root-interval  emb-weighted-fasttext   \n",
       "\n",
       "                               path  test_p_precision  test_p_recall  \\\n",
       "0  out/rootinterval_best/model.ckpt          0.613873       0.610569   \n",
       "\n",
       "   test_p_f1  test_under  test_over  test_under_over_f1  test_loss  \n",
       "0   0.592834    0.986965   0.986353            0.986659   0.526517  "
      ]
     },
     "execution_count": 7,
     "metadata": {},
     "output_type": "execute_result"
    }
   ],
   "source": [
    "experiments_df"
   ]
  }
 ],
 "metadata": {
  "interpreter": {
   "hash": "1a065321f2d93fd20f60a317fd78c7406ef3cd4260c4249e728d2806e6b26b96"
  },
  "kernelspec": {
   "display_name": "Python 3 (ipykernel)",
   "language": "python",
   "name": "python3"
  },
  "language_info": {
   "codemirror_mode": {
    "name": "ipython",
    "version": 3
   },
   "file_extension": ".py",
   "mimetype": "text/x-python",
   "name": "python",
   "nbconvert_exporter": "python",
   "pygments_lexer": "ipython3",
   "version": "3.10.6"
  }
 },
 "nbformat": 4,
 "nbformat_minor": 4
}
