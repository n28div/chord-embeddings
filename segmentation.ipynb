{
 "cells": [
  {
   "cell_type": "code",
   "execution_count": 17,
   "metadata": {},
   "outputs": [
    {
     "data": {
      "text/plain": [
       "42"
      ]
     },
     "execution_count": 17,
     "metadata": {},
     "output_type": "execute_result"
    }
   ],
   "source": [
    "from tqdm.notebook import tqdm\n",
    "\n",
    "import pandas as pd\n",
    "import numpy as np\n",
    "\n",
    "import pytorch_lightning as pl\n",
    "from pitchclass2vec import encoding, model\n",
    "from pitchclass2vec.pitchclass2vec import Pitchclass2VecModel\n",
    "from tasks.segmentation.data import BillboardDataset, SegmentationDataModule\n",
    "from tasks.segmentation.functional import LSTMBaselineModel\n",
    "\n",
    "from evaluate import load_pitchclass2vec_model\n",
    "\n",
    "RANDOM_SEED = 42\n",
    "pl.seed_everything(seed=RANDOM_SEED)"
   ]
  },
  {
   "cell_type": "markdown",
   "metadata": {},
   "source": [
    "# Segmentation baseline"
   ]
  },
  {
   "cell_type": "code",
   "execution_count": 18,
   "metadata": {},
   "outputs": [],
   "source": [
    "EXP = [\n",
    "    (\"text\", \"fasttext\", \"out/fasttext_best/model.ckpt\"),\n",
    "    (\"timed-root-interval\", \"emb-weighted-fasttext\", \"out/rootinterval_best/model.ckpt\"),\n",
    "    (\"rdf\", \"randomwalk-rdf2vec\", \"out/rdf2vec_best/model.ckpt\"),\n",
    "]\n",
    "\n",
    "  \n",
    "experiments_df = pd.DataFrame(columns=[\n",
    "    \"encoding\", \"model\", \"path\", \"test_p_precision\", \"test_p_recall\",  \"test_p_f1\",  \"test_under\",  \"test_over\",  \"test_under_over_f1\"\n",
    "])"
   ]
  },
  {
   "cell_type": "code",
   "execution_count": 25,
   "metadata": {},
   "outputs": [
    {
     "data": {
      "application/vnd.jupyter.widget-view+json": {
       "model_id": "27e0c58dde3348a8b57904f15791bb49",
       "version_major": 2,
       "version_minor": 0
      },
      "text/plain": [
       "  0%|          | 0/3 [00:00<?, ?it/s]"
      ]
     },
     "metadata": {},
     "output_type": "display_data"
    },
    {
     "name": "stderr",
     "output_type": "stream",
     "text": [
      "\n",
      "  0%|                                                                                                                                                              | 0/890 [00:00<?, ?it/s]\u001b[A\n",
      "  9%|█████████████▎                                                                                                                                      | 80/890 [00:00<00:01, 792.34it/s]\u001b[A\n",
      " 18%|██████████████████████████▉                                                                                                                        | 163/890 [00:00<00:00, 814.28it/s]\u001b[A\n",
      " 28%|████████████████████████████████████████▍                                                                                                          | 245/890 [00:00<00:00, 796.40it/s]\u001b[A\n",
      " 37%|█████████████████████████████████████████████████████▋                                                                                             | 325/890 [00:00<00:00, 792.15it/s]\u001b[A\n",
      " 46%|███████████████████████████████████████████████████████████████████                                                                                | 406/890 [00:00<00:00, 797.48it/s]\u001b[A\n",
      " 55%|████████████████████████████████████████████████████████████████████████████████▍                                                                  | 487/890 [00:00<00:00, 800.53it/s]\u001b[A\n",
      " 64%|██████████████████████████████████████████████████████████████████████████████████████████████▏                                                    | 570/890 [00:00<00:00, 808.40it/s]\u001b[A\n",
      " 73%|███████████████████████████████████████████████████████████████████████████████████████████████████████████▌                                       | 651/890 [00:00<00:00, 791.83it/s]\u001b[A\n",
      " 82%|████████████████████████████████████████████████████████████████████████████████████████████████████████████████████████▋                          | 731/890 [00:00<00:00, 793.47it/s]\u001b[A\n",
      " 92%|██████████████████████████████████████████████████████████████████████████████████████████████████████████████████████████████████████▌            | 815/890 [00:01<00:00, 805.43it/s]\u001b[A"
     ]
    },
    {
     "name": "stdout",
     "output_type": "stream",
     "text": [
      "Track 974 not parsable\n"
     ]
    },
    {
     "name": "stderr",
     "output_type": "stream",
     "text": [
      "100%|███████████████████████████████████████████████████████████████████████████████████████████████████████████████████████████████████████████████████| 890/890 [00:01<00:00, 801.68it/s]\n",
      "/home/nicolas/pitchclass2vec/.venv/lib/python3.10/site-packages/pytorch_lightning/trainer/trainer.py:1555: PossibleUserWarning: The number of training batches (3) is smaller than the logging interval Trainer(log_every_n_steps=50). Set a lower value for log_every_n_steps if you want to see logs for the training epoch.\n",
      "  rank_zero_warn(\n",
      "\n",
      "  0%|                                                                                                                                                              | 0/890 [00:00<?, ?it/s]\u001b[A\n",
      "  9%|█████████████▏                                                                                                                                      | 79/890 [00:00<00:01, 786.15it/s]\u001b[A\n",
      " 18%|██████████████████████████▊                                                                                                                        | 162/890 [00:00<00:00, 805.92it/s]\u001b[A\n",
      " 27%|████████████████████████████████████████▏                                                                                                          | 243/890 [00:00<00:00, 804.37it/s]\u001b[A\n",
      " 36%|█████████████████████████████████████████████████████▌                                                                                             | 324/890 [00:00<00:00, 800.72it/s]\u001b[A\n",
      " 46%|███████████████████████████████████████████████████████████████████                                                                                | 406/890 [00:00<00:00, 806.53it/s]\u001b[A\n",
      " 55%|████████████████████████████████████████████████████████████████████████████████▊                                                                  | 489/890 [00:00<00:00, 810.30it/s]\u001b[A\n",
      " 64%|██████████████████████████████████████████████████████████████████████████████████████████████▋                                                    | 573/890 [00:00<00:00, 819.56it/s]\u001b[A\n",
      " 74%|████████████████████████████████████████████████████████████████████████████████████████████████████████████▏                                      | 655/890 [00:00<00:00, 812.01it/s]\u001b[A\n",
      " 83%|█████████████████████████████████████████████████████████████████████████████████████████████████████████████████████████▋                         | 737/890 [00:00<00:00, 806.20it/s]\u001b[A\n",
      " 92%|███████████████████████████████████████████████████████████████████████████████████████████████████████████████████████████████████████▎           | 819/890 [00:01<00:00, 809.24it/s]\u001b[A"
     ]
    },
    {
     "name": "stdout",
     "output_type": "stream",
     "text": [
      "Track 974 not parsable\n"
     ]
    },
    {
     "name": "stderr",
     "output_type": "stream",
     "text": [
      "100%|███████████████████████████████████████████████████████████████████████████████████████████████████████████████████████████████████████████████████| 890/890 [00:01<00:00, 810.42it/s]\n"
     ]
    },
    {
     "name": "stdout",
     "output_type": "stream",
     "text": [
      "────────────────────────────────────────────────────────────────────────────────────────────────────────────────────────\n",
      "       Test metric             DataLoader 0\n",
      "────────────────────────────────────────────────────────────────────────────────────────────────────────────────────────\n",
      "        test_loss           0.20452962815761566\n",
      "        test_over           0.6609950396134083\n",
      "        test_p_f1           0.49893707471821214\n",
      "    test_p_precision        0.46437533632749284\n",
      "      test_p_recall         0.5997058969990259\n",
      "       test_under           0.4737303638605189\n",
      "   test_under_over_f1       0.5519104792532354\n",
      "────────────────────────────────────────────────────────────────────────────────────────────────────────────────────────\n"
     ]
    },
    {
     "name": "stderr",
     "output_type": "stream",
     "text": [
      "/tmp/ipykernel_113699/2136277362.py:16: FutureWarning: The frame.append method is deprecated and will be removed from pandas in a future version. Use pandas.concat instead.\n",
      "  experiments_df = experiments_df.append({\n",
      "\n",
      "  0%|                                                                                                                                                              | 0/890 [00:00<?, ?it/s]\u001b[A\n",
      "  9%|████████████▉                                                                                                                                       | 78/890 [00:00<00:01, 777.21it/s]\u001b[A\n",
      " 18%|██████████████████████████▍                                                                                                                        | 160/890 [00:00<00:00, 802.26it/s]\u001b[A\n",
      " 27%|███████████████████████████████████████▊                                                                                                           | 241/890 [00:00<00:00, 794.94it/s]\u001b[A\n",
      " 36%|█████████████████████████████████████████████████████                                                                                              | 321/890 [00:00<00:00, 782.99it/s]\u001b[A\n",
      " 45%|██████████████████████████████████████████████████████████████████▌                                                                                | 403/890 [00:00<00:00, 795.10it/s]\u001b[A\n",
      " 54%|███████████████████████████████████████████████████████████████████████████████▊                                                                   | 483/890 [00:00<00:00, 788.01it/s]\u001b[A\n",
      " 63%|████████████████████████████████████████████████████████████████████████████████████████████▊                                                      | 562/890 [00:00<00:00, 780.49it/s]\u001b[A\n",
      " 72%|█████████████████████████████████████████████████████████████████████████████████████████████████████████▊                                         | 641/890 [00:00<00:00, 779.74it/s]\u001b[A\n",
      " 81%|███████████████████████████████████████████████████████████████████████████████████████████████████████████████████████                            | 721/890 [00:00<00:00, 782.39it/s]\u001b[A\n",
      " 91%|█████████████████████████████████████████████████████████████████████████████████████████████████████████████████████████████████████▏             | 806/890 [00:01<00:00, 800.33it/s]\u001b[A"
     ]
    },
    {
     "name": "stdout",
     "output_type": "stream",
     "text": [
      "Track 974 not parsable\n"
     ]
    },
    {
     "name": "stderr",
     "output_type": "stream",
     "text": [
      "\n",
      "100%|███████████████████████████████████████████████████████████████████████████████████████████████████████████████████████████████████████████████████| 890/890 [00:01<00:00, 790.61it/s]\u001b[A\n",
      "/home/nicolas/pitchclass2vec/.venv/lib/python3.10/site-packages/pytorch_lightning/trainer/trainer.py:1555: PossibleUserWarning: The number of training batches (3) is smaller than the logging interval Trainer(log_every_n_steps=50). Set a lower value for log_every_n_steps if you want to see logs for the training epoch.\n",
      "  rank_zero_warn(\n",
      "\n",
      "  0%|                                                                                                                                                              | 0/890 [00:00<?, ?it/s]\u001b[A\n",
      "  9%|█████████████▎                                                                                                                                      | 80/890 [00:00<00:01, 792.22it/s]\u001b[A\n",
      " 18%|███████████████████████████                                                                                                                        | 164/890 [00:00<00:00, 815.20it/s]\u001b[A\n",
      " 28%|████████████████████████████████████████▋                                                                                                          | 246/890 [00:00<00:00, 806.31it/s]\u001b[A\n",
      " 37%|██████████████████████████████████████████████████████                                                                                             | 327/890 [00:00<00:00, 803.17it/s]\u001b[A\n",
      " 46%|███████████████████████████████████████████████████████████████████▌                                                                               | 409/890 [00:00<00:00, 808.89it/s]\u001b[A\n",
      " 55%|████████████████████████████████████████████████████████████████████████████████▉                                                                  | 490/890 [00:00<00:00, 791.59it/s]\u001b[A\n",
      " 64%|██████████████████████████████████████████████████████████████████████████████████████████████▋                                                    | 573/890 [00:00<00:00, 803.43it/s]\u001b[A\n",
      " 73%|████████████████████████████████████████████████████████████████████████████████████████████████████████████                                       | 654/890 [00:00<00:00, 794.18it/s]\u001b[A\n",
      " 83%|█████████████████████████████████████████████████████████████████████████████████████████████████████████████████████████▌                         | 736/890 [00:00<00:00, 801.07it/s]\u001b[A\n",
      " 92%|██████████████████████████████████████████████████████████████████████████████████████████████████████████████████████████████████████▉            | 817/890 [00:01<00:00, 799.87it/s]\u001b[A"
     ]
    },
    {
     "name": "stdout",
     "output_type": "stream",
     "text": [
      "Track 974 not parsable\n"
     ]
    },
    {
     "name": "stderr",
     "output_type": "stream",
     "text": [
      "100%|███████████████████████████████████████████████████████████████████████████████████████████████████████████████████████████████████████████████████| 890/890 [00:01<00:00, 803.52it/s]\n"
     ]
    },
    {
     "name": "stdout",
     "output_type": "stream",
     "text": [
      "────────────────────────────────────────────────────────────────────────────────────────────────────────────────────────\n",
      "       Test metric             DataLoader 0\n",
      "────────────────────────────────────────────────────────────────────────────────────────────────────────────────────────\n",
      "        test_loss           0.23242256045341492\n",
      "        test_over                   0.0\n",
      "        test_p_f1           0.5097818345771283\n",
      "    test_p_precision        0.35240301328620993\n",
      "      test_p_recall                 1.0\n",
      "       test_under           0.17305863154590062\n",
      "   test_under_over_f1               0.0\n",
      "────────────────────────────────────────────────────────────────────────────────────────────────────────────────────────\n"
     ]
    },
    {
     "name": "stderr",
     "output_type": "stream",
     "text": [
      "/tmp/ipykernel_113699/2136277362.py:16: FutureWarning: The frame.append method is deprecated and will be removed from pandas in a future version. Use pandas.concat instead.\n",
      "  experiments_df = experiments_df.append({\n",
      "\n",
      "  0%|                                                                                                                                                              | 0/890 [00:00<?, ?it/s]\u001b[A\n",
      "  9%|█████████████▏                                                                                                                                      | 79/890 [00:00<00:01, 789.07it/s]\u001b[A\n",
      " 18%|██████████████████████████▊                                                                                                                        | 162/890 [00:00<00:00, 812.78it/s]\u001b[A\n",
      " 27%|████████████████████████████████████████▎                                                                                                          | 244/890 [00:00<00:00, 802.46it/s]\u001b[A\n",
      " 37%|█████████████████████████████████████████████████████▋                                                                                             | 325/890 [00:00<00:00, 803.49it/s]\u001b[A\n",
      " 46%|███████████████████████████████████████████████████████████████████▍                                                                               | 408/890 [00:00<00:00, 810.80it/s]\u001b[A\n",
      " 55%|████████████████████████████████████████████████████████████████████████████████▉                                                                  | 490/890 [00:00<00:00, 805.95it/s]\u001b[A\n",
      " 64%|██████████████████████████████████████████████████████████████████████████████████████████████▋                                                    | 573/890 [00:00<00:00, 813.26it/s]\u001b[A\n",
      " 74%|████████████████████████████████████████████████████████████████████████████████████████████████████████████▏                                      | 655/890 [00:00<00:00, 796.94it/s]\u001b[A\n",
      " 83%|█████████████████████████████████████████████████████████████████████████████████████████████████████████████████████████▋                         | 737/890 [00:00<00:00, 802.92it/s]\u001b[A\n",
      " 92%|███████████████████████████████████████████████████████████████████████████████████████████████████████████████████████████████████████▎           | 819/890 [00:01<00:00, 805.48it/s]\u001b[A"
     ]
    },
    {
     "name": "stdout",
     "output_type": "stream",
     "text": [
      "Track 974 not parsable\n"
     ]
    },
    {
     "name": "stderr",
     "output_type": "stream",
     "text": [
      "100%|███████████████████████████████████████████████████████████████████████████████████████████████████████████████████████████████████████████████████| 890/890 [00:01<00:00, 807.22it/s]\n",
      "/home/nicolas/pitchclass2vec/.venv/lib/python3.10/site-packages/pytorch_lightning/trainer/trainer.py:1555: PossibleUserWarning: The number of training batches (3) is smaller than the logging interval Trainer(log_every_n_steps=50). Set a lower value for log_every_n_steps if you want to see logs for the training epoch.\n",
      "  rank_zero_warn(\n",
      "\n",
      "  0%|                                                                                                                                                              | 0/890 [00:00<?, ?it/s]\u001b[A\n",
      "  9%|█████████████▎                                                                                                                                      | 80/890 [00:00<00:01, 796.66it/s]\u001b[A\n",
      " 18%|██████████████████████████▉                                                                                                                        | 163/890 [00:00<00:00, 815.89it/s]\u001b[A\n",
      " 28%|████████████████████████████████████████▍                                                                                                          | 245/890 [00:00<00:00, 801.38it/s]\u001b[A\n",
      " 37%|█████████████████████████████████████████████████████▊                                                                                             | 326/890 [00:00<00:00, 800.75it/s]\u001b[A\n",
      " 46%|███████████████████████████████████████████████████████████████████▏                                                                               | 407/890 [00:01<00:01, 272.68it/s]\u001b[A\n",
      " 55%|████████████████████████████████████████████████████████████████████████████████▊                                                                  | 489/890 [00:01<00:01, 352.89it/s]\u001b[A\n",
      " 64%|██████████████████████████████████████████████████████████████████████████████████████████████▋                                                    | 573/890 [00:01<00:00, 437.21it/s]\u001b[A\n",
      " 73%|███████████████████████████████████████████████████████████████████████████████████████████████████████████▏                                       | 649/890 [00:01<00:00, 501.09it/s]\u001b[A\n",
      " 82%|████████████████████████████████████████████████████████████████████████████████████████████████████████████████████████▉                          | 732/890 [00:01<00:00, 572.83it/s]\u001b[A\n",
      " 91%|██████████████████████████████████████████████████████████████████████████████████████████████████████████████████████████████████████             | 812/890 [00:01<00:00, 624.57it/s]\u001b[A"
     ]
    },
    {
     "name": "stdout",
     "output_type": "stream",
     "text": [
      "Track 974 not parsable\n"
     ]
    },
    {
     "name": "stderr",
     "output_type": "stream",
     "text": [
      "100%|███████████████████████████████████████████████████████████████████████████████████████████████████████████████████████████████████████████████████| 890/890 [00:01<00:00, 539.35it/s]\n"
     ]
    },
    {
     "name": "stdout",
     "output_type": "stream",
     "text": [
      "────────────────────────────────────────────────────────────────────────────────────────────────────────────────────────\n",
      "       Test metric             DataLoader 0\n",
      "────────────────────────────────────────────────────────────────────────────────────────────────────────────────────────\n",
      "        test_loss           0.20186464488506317\n",
      "        test_over            0.619661604863571\n",
      "        test_p_f1           0.4847005350652677\n",
      "    test_p_precision        0.46766108282816937\n",
      "      test_p_recall         0.5516595017089558\n",
      "       test_under           0.46458289861607427\n",
      "   test_under_over_f1       0.5310318542076166\n",
      "────────────────────────────────────────────────────────────────────────────────────────────────────────────────────────\n"
     ]
    },
    {
     "name": "stderr",
     "output_type": "stream",
     "text": [
      "/tmp/ipykernel_113699/2136277362.py:16: FutureWarning: The frame.append method is deprecated and will be removed from pandas in a future version. Use pandas.concat instead.\n",
      "  experiments_df = experiments_df.append({\n"
     ]
    }
   ],
   "source": [
    "import logging\n",
    "logging.disable(logging.CRITICAL)\n",
    "\n",
    "for exp in tqdm(EXP):\n",
    "    p2v = load_pitchclass2vec_model(*exp)\n",
    "    data = SegmentationDataModule(BillboardDataset, p2v, 256)\n",
    "\n",
    "    lstm_model = LSTMBaselineModel(embedding_dim=p2v.vector_size, hidden_size=256, num_layers=5, dropout=0.2, learning_rate=0.001)\n",
    "    trainer = pl.Trainer(max_epochs=200, accelerator=\"auto\", devices=1,\n",
    "                         enable_progress_bar=False)\n",
    "    trainer.fit(lstm_model, data)\n",
    "    test_metrics = trainer.test(lstm_model, data)\n",
    "    experiments_df = experiments_df.append({\n",
    "        \"encoding\": exp[0], \"model\": exp[1], \"path\": exp[2],\n",
    "        **test_metrics[0]\n",
    "    }, ignore_index=True)"
   ]
  },
  {
   "cell_type": "code",
   "execution_count": 26,
   "metadata": {},
   "outputs": [
    {
     "data": {
      "text/html": [
       "<div>\n",
       "<style scoped>\n",
       "    .dataframe tbody tr th:only-of-type {\n",
       "        vertical-align: middle;\n",
       "    }\n",
       "\n",
       "    .dataframe tbody tr th {\n",
       "        vertical-align: top;\n",
       "    }\n",
       "\n",
       "    .dataframe thead th {\n",
       "        text-align: right;\n",
       "    }\n",
       "</style>\n",
       "<table border=\"1\" class=\"dataframe\">\n",
       "  <thead>\n",
       "    <tr style=\"text-align: right;\">\n",
       "      <th></th>\n",
       "      <th>encoding</th>\n",
       "      <th>model</th>\n",
       "      <th>path</th>\n",
       "      <th>test_p_precision</th>\n",
       "      <th>test_p_recall</th>\n",
       "      <th>test_p_f1</th>\n",
       "      <th>test_under</th>\n",
       "      <th>test_over</th>\n",
       "      <th>test_under_over_f1</th>\n",
       "      <th>test_loss</th>\n",
       "    </tr>\n",
       "  </thead>\n",
       "  <tbody>\n",
       "    <tr>\n",
       "      <th>0</th>\n",
       "      <td>text</td>\n",
       "      <td>fasttext</td>\n",
       "      <td>out/fasttext_best/model.ckpt</td>\n",
       "      <td>0.351716</td>\n",
       "      <td>1.000000</td>\n",
       "      <td>0.507771</td>\n",
       "      <td>0.118867</td>\n",
       "      <td>0.000000</td>\n",
       "      <td>0.000000</td>\n",
       "      <td>0.246833</td>\n",
       "    </tr>\n",
       "    <tr>\n",
       "      <th>1</th>\n",
       "      <td>timed-root-interval</td>\n",
       "      <td>emb-weighted-fasttext</td>\n",
       "      <td>out/rootinterval_best/model.ckpt</td>\n",
       "      <td>0.331658</td>\n",
       "      <td>1.000000</td>\n",
       "      <td>0.489854</td>\n",
       "      <td>0.100325</td>\n",
       "      <td>0.000000</td>\n",
       "      <td>0.000000</td>\n",
       "      <td>0.254400</td>\n",
       "    </tr>\n",
       "    <tr>\n",
       "      <th>2</th>\n",
       "      <td>rdf</td>\n",
       "      <td>randomwalk-rdf2vec</td>\n",
       "      <td>out/rdf2vec_best/model.ckpt</td>\n",
       "      <td>0.371116</td>\n",
       "      <td>1.000000</td>\n",
       "      <td>0.526389</td>\n",
       "      <td>0.131685</td>\n",
       "      <td>0.000000</td>\n",
       "      <td>0.000000</td>\n",
       "      <td>0.243699</td>\n",
       "    </tr>\n",
       "    <tr>\n",
       "      <th>3</th>\n",
       "      <td>text</td>\n",
       "      <td>fasttext</td>\n",
       "      <td>out/fasttext_best/model.ckpt</td>\n",
       "      <td>0.369817</td>\n",
       "      <td>1.000000</td>\n",
       "      <td>0.526782</td>\n",
       "      <td>0.268764</td>\n",
       "      <td>0.000000</td>\n",
       "      <td>0.000000</td>\n",
       "      <td>0.242594</td>\n",
       "    </tr>\n",
       "    <tr>\n",
       "      <th>4</th>\n",
       "      <td>timed-root-interval</td>\n",
       "      <td>emb-weighted-fasttext</td>\n",
       "      <td>out/rootinterval_best/model.ckpt</td>\n",
       "      <td>0.373490</td>\n",
       "      <td>1.000000</td>\n",
       "      <td>0.529250</td>\n",
       "      <td>0.139533</td>\n",
       "      <td>0.000000</td>\n",
       "      <td>0.000000</td>\n",
       "      <td>0.242523</td>\n",
       "    </tr>\n",
       "    <tr>\n",
       "      <th>5</th>\n",
       "      <td>rdf</td>\n",
       "      <td>randomwalk-rdf2vec</td>\n",
       "      <td>out/rdf2vec_best/model.ckpt</td>\n",
       "      <td>0.372740</td>\n",
       "      <td>1.000000</td>\n",
       "      <td>0.529418</td>\n",
       "      <td>0.114943</td>\n",
       "      <td>0.000000</td>\n",
       "      <td>0.000000</td>\n",
       "      <td>0.242621</td>\n",
       "    </tr>\n",
       "    <tr>\n",
       "      <th>6</th>\n",
       "      <td>text</td>\n",
       "      <td>fasttext</td>\n",
       "      <td>out/fasttext_best/model.ckpt</td>\n",
       "      <td>0.365025</td>\n",
       "      <td>1.000000</td>\n",
       "      <td>0.521016</td>\n",
       "      <td>0.121183</td>\n",
       "      <td>0.000000</td>\n",
       "      <td>0.000000</td>\n",
       "      <td>0.239224</td>\n",
       "    </tr>\n",
       "    <tr>\n",
       "      <th>7</th>\n",
       "      <td>text</td>\n",
       "      <td>fasttext</td>\n",
       "      <td>out/fasttext_best/model.ckpt</td>\n",
       "      <td>0.464375</td>\n",
       "      <td>0.599706</td>\n",
       "      <td>0.498937</td>\n",
       "      <td>0.473730</td>\n",
       "      <td>0.660995</td>\n",
       "      <td>0.551910</td>\n",
       "      <td>0.204530</td>\n",
       "    </tr>\n",
       "    <tr>\n",
       "      <th>8</th>\n",
       "      <td>timed-root-interval</td>\n",
       "      <td>emb-weighted-fasttext</td>\n",
       "      <td>out/rootinterval_best/model.ckpt</td>\n",
       "      <td>0.352403</td>\n",
       "      <td>1.000000</td>\n",
       "      <td>0.509782</td>\n",
       "      <td>0.173059</td>\n",
       "      <td>0.000000</td>\n",
       "      <td>0.000000</td>\n",
       "      <td>0.232423</td>\n",
       "    </tr>\n",
       "    <tr>\n",
       "      <th>9</th>\n",
       "      <td>rdf</td>\n",
       "      <td>randomwalk-rdf2vec</td>\n",
       "      <td>out/rdf2vec_best/model.ckpt</td>\n",
       "      <td>0.467661</td>\n",
       "      <td>0.551660</td>\n",
       "      <td>0.484701</td>\n",
       "      <td>0.464583</td>\n",
       "      <td>0.619662</td>\n",
       "      <td>0.531032</td>\n",
       "      <td>0.201865</td>\n",
       "    </tr>\n",
       "  </tbody>\n",
       "</table>\n",
       "</div>"
      ],
      "text/plain": [
       "              encoding                  model  \\\n",
       "0                 text               fasttext   \n",
       "1  timed-root-interval  emb-weighted-fasttext   \n",
       "2                  rdf     randomwalk-rdf2vec   \n",
       "3                 text               fasttext   \n",
       "4  timed-root-interval  emb-weighted-fasttext   \n",
       "5                  rdf     randomwalk-rdf2vec   \n",
       "6                 text               fasttext   \n",
       "7                 text               fasttext   \n",
       "8  timed-root-interval  emb-weighted-fasttext   \n",
       "9                  rdf     randomwalk-rdf2vec   \n",
       "\n",
       "                               path  test_p_precision  test_p_recall  \\\n",
       "0      out/fasttext_best/model.ckpt          0.351716       1.000000   \n",
       "1  out/rootinterval_best/model.ckpt          0.331658       1.000000   \n",
       "2       out/rdf2vec_best/model.ckpt          0.371116       1.000000   \n",
       "3      out/fasttext_best/model.ckpt          0.369817       1.000000   \n",
       "4  out/rootinterval_best/model.ckpt          0.373490       1.000000   \n",
       "5       out/rdf2vec_best/model.ckpt          0.372740       1.000000   \n",
       "6      out/fasttext_best/model.ckpt          0.365025       1.000000   \n",
       "7      out/fasttext_best/model.ckpt          0.464375       0.599706   \n",
       "8  out/rootinterval_best/model.ckpt          0.352403       1.000000   \n",
       "9       out/rdf2vec_best/model.ckpt          0.467661       0.551660   \n",
       "\n",
       "   test_p_f1  test_under  test_over  test_under_over_f1  test_loss  \n",
       "0   0.507771    0.118867   0.000000            0.000000   0.246833  \n",
       "1   0.489854    0.100325   0.000000            0.000000   0.254400  \n",
       "2   0.526389    0.131685   0.000000            0.000000   0.243699  \n",
       "3   0.526782    0.268764   0.000000            0.000000   0.242594  \n",
       "4   0.529250    0.139533   0.000000            0.000000   0.242523  \n",
       "5   0.529418    0.114943   0.000000            0.000000   0.242621  \n",
       "6   0.521016    0.121183   0.000000            0.000000   0.239224  \n",
       "7   0.498937    0.473730   0.660995            0.551910   0.204530  \n",
       "8   0.509782    0.173059   0.000000            0.000000   0.232423  \n",
       "9   0.484701    0.464583   0.619662            0.531032   0.201865  "
      ]
     },
     "execution_count": 26,
     "metadata": {},
     "output_type": "execute_result"
    }
   ],
   "source": [
    "experiments_df"
   ]
  }
 ],
 "metadata": {
  "interpreter": {
   "hash": "1a065321f2d93fd20f60a317fd78c7406ef3cd4260c4249e728d2806e6b26b96"
  },
  "kernelspec": {
   "display_name": "Python 3 (ipykernel)",
   "language": "python",
   "name": "python3"
  },
  "language_info": {
   "codemirror_mode": {
    "name": "ipython",
    "version": 3
   },
   "file_extension": ".py",
   "mimetype": "text/x-python",
   "name": "python",
   "nbconvert_exporter": "python",
   "pygments_lexer": "ipython3",
   "version": "3.10.6"
  }
 },
 "nbformat": 4,
 "nbformat_minor": 4
}
