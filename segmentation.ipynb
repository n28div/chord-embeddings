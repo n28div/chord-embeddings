{
 "cells": [
  {
   "cell_type": "code",
   "execution_count": 8,
   "metadata": {},
   "outputs": [
    {
     "name": "stderr",
     "output_type": "stream",
     "text": [
      "Global seed set to 42\n"
     ]
    },
    {
     "data": {
      "text/plain": [
       "42"
      ]
     },
     "execution_count": 8,
     "metadata": {},
     "output_type": "execute_result"
    }
   ],
   "source": [
    "import pytorch_lightning as pl\n",
    "from pitchclass2vec import encoding, model\n",
    "from pitchclass2vec.pitchclass2vec import Pitchclass2VecModel\n",
    "from tasks.segmentation.data import BillboardDataset, SegmentationDataModule\n",
    "from tasks.segmentation.functional import LSTMBaselineModel\n",
    "\n",
    "\n",
    "RANDOM_SEED = 42\n",
    "pl.seed_everything(seed=RANDOM_SEED)"
   ]
  },
  {
   "cell_type": "code",
   "execution_count": 10,
   "metadata": {},
   "outputs": [
    {
     "name": "stderr",
     "output_type": "stream",
     "text": [
      "GPU available: False, used: False\n",
      "TPU available: False, using: 0 TPU cores\n",
      "IPU available: False, using: 0 IPUs\n",
      "HPU available: False, using: 0 HPUs\n",
      "INFO: Downloading ['metadata', 'annotation_salami', 'annotation_lab', 'annotation_mirex13', 'annotation_chordino'] to /home/n28div/mir_datasets/billboard\n",
      "INFO: [metadata] downloading billboard-2.0-index.csv\n",
      "INFO: /home/n28div/mir_datasets/billboard/billboard-2.0-index.csv already exists and will not be downloaded. Rerun with force_overwrite=True to delete this file and force the download.\n",
      "INFO: [annotation_salami] downloading billboard-2.0-salami_chords.tar.gz\n",
      "INFO: /home/n28div/mir_datasets/billboard/billboard-2.0-salami_chords.tar.gz already exists and will not be downloaded. Rerun with force_overwrite=True to delete this file and force the download.\n",
      "INFO: [annotation_lab] downloading billboard-2.0.1-lab.tar.gz\n",
      "INFO: /home/n28div/mir_datasets/billboard/billboard-2.0.1-lab.tar.gz already exists and will not be downloaded. Rerun with force_overwrite=True to delete this file and force the download.\n",
      "INFO: [annotation_mirex13] downloading billboard-2.0.1-mirex.tar.gz\n",
      "INFO: /home/n28div/mir_datasets/billboard/billboard-2.0.1-mirex.tar.gz already exists and will not be downloaded. Rerun with force_overwrite=True to delete this file and force the download.\n",
      "INFO: [annotation_chordino] downloading billboard-2.0-chordino.tar.gz\n",
      "INFO: /home/n28div/mir_datasets/billboard/billboard-2.0-chordino.tar.gz already exists and will not be downloaded. Rerun with force_overwrite=True to delete this file and force the download.\n",
      " 78%|███████▊  | 694/890 [00:02<00:00, 250.72it/s]"
     ]
    },
    {
     "name": "stdout",
     "output_type": "stream",
     "text": [
      "Track 974 not parsable\n"
     ]
    },
    {
     "name": "stderr",
     "output_type": "stream",
     "text": [
      "100%|██████████| 890/890 [00:03<00:00, 241.35it/s]\n",
      "/opt/anaconda3/envs/thesis/lib/python3.10/site-packages/pytorch_lightning/trainer/connectors/data_connector.py:488: PossibleUserWarning: Your `val_dataloader`'s sampler has shuffling enabled, it is strongly recommended that you turn shuffling off for val/test/predict dataloaders.\n",
      "  rank_zero_warn(\n"
     ]
    },
    {
     "data": {
      "text/html": [
       "<pre style=\"white-space:pre;overflow-x:auto;line-height:normal;font-family:Menlo,'DejaVu Sans Mono',consolas,'Courier New',monospace\">┏━━━━━━━━━━━━━━━━━━━━━━━━━━━┳━━━━━━━━━━━━━━━━━━━━━━━━━━━┓\n",
       "┃<span style=\"font-weight: bold\">      Validate metric      </span>┃<span style=\"font-weight: bold\">       DataLoader 0        </span>┃\n",
       "┡━━━━━━━━━━━━━━━━━━━━━━━━━━━╇━━━━━━━━━━━━━━━━━━━━━━━━━━━┩\n",
       "│<span style=\"color: #008080; text-decoration-color: #008080\">         val_loss          </span>│<span style=\"color: #800080; text-decoration-color: #800080\">    0.30448272824287415    </span>│\n",
       "│<span style=\"color: #008080; text-decoration-color: #008080\">         val_over          </span>│<span style=\"color: #800080; text-decoration-color: #800080\">    0.42035891926276586    </span>│\n",
       "│<span style=\"color: #008080; text-decoration-color: #008080\">         val_p_f1          </span>│<span style=\"color: #800080; text-decoration-color: #800080\">    0.4264300188103144     </span>│\n",
       "│<span style=\"color: #008080; text-decoration-color: #008080\">      val_p_precision      </span>│<span style=\"color: #800080; text-decoration-color: #800080\">    0.39548336012666996    </span>│\n",
       "│<span style=\"color: #008080; text-decoration-color: #008080\">       val_p_recall        </span>│<span style=\"color: #800080; text-decoration-color: #800080\">     0.516171710541415     </span>│\n",
       "│<span style=\"color: #008080; text-decoration-color: #008080\">         val_under         </span>│<span style=\"color: #800080; text-decoration-color: #800080\">    0.2795440939470877     </span>│\n",
       "│<span style=\"color: #008080; text-decoration-color: #008080\">     val_under_over_f1     </span>│<span style=\"color: #800080; text-decoration-color: #800080\">    0.30984728188251787    </span>│\n",
       "└───────────────────────────┴───────────────────────────┘\n",
       "</pre>\n"
      ],
      "text/plain": [
       "┏━━━━━━━━━━━━━━━━━━━━━━━━━━━┳━━━━━━━━━━━━━━━━━━━━━━━━━━━┓\n",
       "┃\u001b[1m \u001b[0m\u001b[1m     Validate metric     \u001b[0m\u001b[1m \u001b[0m┃\u001b[1m \u001b[0m\u001b[1m      DataLoader 0       \u001b[0m\u001b[1m \u001b[0m┃\n",
       "┡━━━━━━━━━━━━━━━━━━━━━━━━━━━╇━━━━━━━━━━━━━━━━━━━━━━━━━━━┩\n",
       "│\u001b[36m \u001b[0m\u001b[36m        val_loss         \u001b[0m\u001b[36m \u001b[0m│\u001b[35m \u001b[0m\u001b[35m   0.30448272824287415   \u001b[0m\u001b[35m \u001b[0m│\n",
       "│\u001b[36m \u001b[0m\u001b[36m        val_over         \u001b[0m\u001b[36m \u001b[0m│\u001b[35m \u001b[0m\u001b[35m   0.42035891926276586   \u001b[0m\u001b[35m \u001b[0m│\n",
       "│\u001b[36m \u001b[0m\u001b[36m        val_p_f1         \u001b[0m\u001b[36m \u001b[0m│\u001b[35m \u001b[0m\u001b[35m   0.4264300188103144    \u001b[0m\u001b[35m \u001b[0m│\n",
       "│\u001b[36m \u001b[0m\u001b[36m     val_p_precision     \u001b[0m\u001b[36m \u001b[0m│\u001b[35m \u001b[0m\u001b[35m   0.39548336012666996   \u001b[0m\u001b[35m \u001b[0m│\n",
       "│\u001b[36m \u001b[0m\u001b[36m      val_p_recall       \u001b[0m\u001b[36m \u001b[0m│\u001b[35m \u001b[0m\u001b[35m    0.516171710541415    \u001b[0m\u001b[35m \u001b[0m│\n",
       "│\u001b[36m \u001b[0m\u001b[36m        val_under        \u001b[0m\u001b[36m \u001b[0m│\u001b[35m \u001b[0m\u001b[35m   0.2795440939470877    \u001b[0m\u001b[35m \u001b[0m│\n",
       "│\u001b[36m \u001b[0m\u001b[36m    val_under_over_f1    \u001b[0m\u001b[36m \u001b[0m│\u001b[35m \u001b[0m\u001b[35m   0.30984728188251787   \u001b[0m\u001b[35m \u001b[0m│\n",
       "└───────────────────────────┴───────────────────────────┘\n"
      ]
     },
     "metadata": {},
     "output_type": "display_data"
    },
    {
     "data": {
      "text/plain": [
       "[{'val_loss': 0.30448272824287415,\n",
       "  'val_p_precision': 0.39548336012666996,\n",
       "  'val_p_recall': 0.516171710541415,\n",
       "  'val_p_f1': 0.4264300188103144,\n",
       "  'val_under': 0.2795440939470877,\n",
       "  'val_over': 0.42035891926276586,\n",
       "  'val_under_over_f1': 0.30984728188251787}]"
      ]
     },
     "execution_count": 10,
     "metadata": {},
     "output_type": "execute_result"
    }
   ],
   "source": [
    "p2v = Pitchclass2VecModel(encoding.TimedRootIntervalDataset, model.FasttextModel, \"/home/n28div/university/thesis/pitchclass2vec/out/model.ckpt\")\n",
    "data = SegmentationDataModule(BillboardDataset, p2v, 2)\n",
    "\n",
    "lstm_model = LSTMBaselineModel(embedding_dim=5)\n",
    "trainer = pl.Trainer(max_epochs=1, accelerator=\"auto\", devices=1,\n",
    "                      enable_progress_bar=False)\n",
    "trainer.validate(lstm_model, data)"
   ]
  },
  {
   "cell_type": "code",
   "execution_count": null,
   "metadata": {},
   "outputs": [],
   "source": []
  }
 ],
 "metadata": {
  "interpreter": {
   "hash": "1a065321f2d93fd20f60a317fd78c7406ef3cd4260c4249e728d2806e6b26b96"
  },
  "kernelspec": {
   "display_name": "Python 3.10.8 64-bit ('thesis': conda)",
   "name": "python3"
  },
  "language_info": {
   "codemirror_mode": {
    "name": "ipython",
    "version": 3
   },
   "file_extension": ".py",
   "mimetype": "text/x-python",
   "name": "python",
   "nbconvert_exporter": "python",
   "pygments_lexer": "ipython3",
   "version": "3.10.8"
  },
  "orig_nbformat": 4
 },
 "nbformat": 4,
 "nbformat_minor": 2
}
