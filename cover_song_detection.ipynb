{
 "cells": [
  {
   "cell_type": "code",
   "execution_count": 3,
   "metadata": {},
   "outputs": [
    {
     "name": "stderr",
     "output_type": "stream",
     "text": [
      "Global seed set to 42\n"
     ]
    },
    {
     "data": {
      "text/plain": [
       "42"
      ]
     },
     "execution_count": 3,
     "metadata": {},
     "output_type": "execute_result"
    }
   ],
   "source": [
    "from tqdm.notebook import tqdm\n",
    "\n",
    "import pandas as pd\n",
    "import numpy as np\n",
    "import pytorch_lightning as pl\n",
    "from scipy.spatial.distance import cosine\n",
    "\n",
    "from evaluate import load_pitchclass2vec_model\n",
    "\n",
    "from collections import defaultdict\n",
    "from itertools import groupby\n",
    "import re\n",
    "\n",
    "import biab\n",
    "\n",
    "RANDOM_SEED = 42\n",
    "pl.seed_everything(seed=RANDOM_SEED)"
   ]
  },
  {
   "cell_type": "markdown",
   "metadata": {},
   "source": [
    "# Load data"
   ]
  },
  {
   "cell_type": "code",
   "execution_count": 49,
   "metadata": {},
   "outputs": [],
   "source": [
    "def extract_id(s):\n",
    "    x = re.findall(\"-(\\d+)\\w?\\.\", str(s))\n",
    "    return int(x[0]) if len(x) > 0 else None\n",
    "\n",
    "df = pd.read_csv(\"./realbook/RealBook/songlist.csv\", names=[\"title\", \"path\"], sep=\";\")\n",
    "df[\"id\"] = df.path.apply(extract_id)"
   ]
  },
  {
   "cell_type": "code",
   "execution_count": 59,
   "metadata": {},
   "outputs": [
    {
     "name": "stdout",
     "output_type": "stream",
     "text": [
      "Exception: Inconsistent number of chord types and roots\n"
     ]
    }
   ],
   "source": [
    "id2chords = defaultdict(list)\n",
    "id2title = defaultdict(str)\n",
    "corpus = list()\n",
    "for idx, (song, path, id) in df.iterrows():\n",
    "    try:\n",
    "        chords = biab.biab_chords(f\"./realbook/RealBook/{path.lower()}\")\n",
    "        chords = [x[-1] for x in chords]\n",
    "        \n",
    "        if len(chords) > 0:\n",
    "            id2chords[id].append(chords)\n",
    "            id2title[id] = song\n",
    "            corpus.append((id, chords))\n",
    "    except:\n",
    "        pass"
   ]
  },
  {
   "cell_type": "code",
   "execution_count": 61,
   "metadata": {},
   "outputs": [
    {
     "name": "stderr",
     "output_type": "stream",
     "text": [
      "/tmp/ipykernel_1201613/3557118382.py:3: VisibleDeprecationWarning: Creating an ndarray from ragged nested sequences (which is a list-or-tuple of lists-or-tuples-or ndarrays with different lengths or shapes) is deprecated. If you meant to do this, you must specify 'dtype=object' when creating the ndarray.\n",
      "  chords = np.array(chords)\n"
     ]
    }
   ],
   "source": [
    "titles, chords = zip(*corpus)\n",
    "titles = np.array(titles)\n",
    "chords = np.array(chords)"
   ]
  },
  {
   "cell_type": "markdown",
   "metadata": {},
   "source": [
    "# Cover song detection\n",
    "\n",
    "State of the art is TPSD with \n",
    "\n",
    "first_tier 0.74 e second tier 0.77."
   ]
  },
  {
   "cell_type": "code",
   "execution_count": 62,
   "metadata": {},
   "outputs": [],
   "source": [
    "def embed_chord(p2v, c):\n",
    "    try:\n",
    "        return p2v[c]\n",
    "    except:\n",
    "        return p2v[\"N\"]"
   ]
  },
  {
   "cell_type": "code",
   "execution_count": 63,
   "metadata": {},
   "outputs": [],
   "source": [
    "#p2v = load_pitchclass2vec_model(\"rdf\", \"randomwalk-rdf2vec\", \"out/rdf2vec_best/model.ckpt\")\n",
    "#p2v = load_pitchclass2vec_model(\"timed-root-interval\", \"emb-weighted-fasttext\", \"out/rootinterval_best/model.ckpt\")\n",
    "p2v = load_pitchclass2vec_model(\"text\", \"fasttext\", \"out/fasttext_best/model.ckpt\")"
   ]
  },
  {
   "cell_type": "code",
   "execution_count": 64,
   "metadata": {},
   "outputs": [],
   "source": [
    "corpus_embedded = np.stack([\n",
    "    np.mean(np.array([embed_chord(p2v, c) for c in x]), axis=0) for x in chords\n",
    "])"
   ]
  },
  {
   "cell_type": "code",
   "execution_count": 65,
   "metadata": {},
   "outputs": [],
   "source": [
    "def get_top_k(title, k = 5):\n",
    "    sim = np.apply_along_axis(cosine, 1, corpus_embedded, a)\n",
    "    top_idxs = sim.argsort()[:k]\n",
    "    return top_idxs, sim[top_idxs]"
   ]
  },
  {
   "cell_type": "code",
   "execution_count": 67,
   "metadata": {},
   "outputs": [
    {
     "name": "stdout",
     "output_type": "stream",
     "text": [
      "First tier 0.8242971887550201\n",
      "Second tier 1.1110441767068273\n"
     ]
    }
   ],
   "source": [
    "first_tiers = list()\n",
    "second_tiers = list()\n",
    "\n",
    "for t, _ in filter(lambda x: len(x[1]) > 1, id2chords.items()):\n",
    "    C_idxs = np.where(titles == t)[0]\n",
    "    first_tier = list()\n",
    "    second_tier = list()\n",
    "    \n",
    "    for C_idx in C_idxs:\n",
    "        query = corpus_embedded[C_idx]        \n",
    "        sim = np.apply_along_axis(cosine, 1, corpus_embedded, query).argsort()\n",
    "        \n",
    "        # compute first tier\n",
    "        top_idxs = sim[:len(C_idxs) - 1]\n",
    "        first_tier.append(len(set(top_idxs).intersection(C_idxs)) / (len(C_idxs) - 1))\n",
    "        \n",
    "        # compute second tier\n",
    "        top_idxs = sim[:(2 * len(C_idxs)) - 1]\n",
    "        second_tier.append(len(set(top_idxs).intersection(C_idxs)) / (len(C_idxs) - 1))\n",
    "    \n",
    "    first_tiers.append(np.mean(first_tier))\n",
    "    second_tiers.append(np.mean(second_tier))\n",
    "\n",
    "print(\"First tier\", np.mean(first_tiers))\n",
    "print(\"Second tier\", np.mean(second_tiers))"
   ]
  },
  {
   "cell_type": "code",
   "execution_count": 69,
   "metadata": {},
   "outputs": [
    {
     "data": {
      "text/plain": [
       "83"
      ]
     },
     "execution_count": 69,
     "metadata": {},
     "output_type": "execute_result"
    }
   ],
   "source": [
    "len(list(filter(lambda x: len(x[1]) > 1, id2chords.items())))"
   ]
  }
 ],
 "metadata": {
  "interpreter": {
   "hash": "1a065321f2d93fd20f60a317fd78c7406ef3cd4260c4249e728d2806e6b26b96"
  },
  "kernelspec": {
   "display_name": "Python 3 (ipykernel)",
   "language": "python",
   "name": "python3"
  },
  "language_info": {
   "codemirror_mode": {
    "name": "ipython",
    "version": 3
   },
   "file_extension": ".py",
   "mimetype": "text/x-python",
   "name": "python",
   "nbconvert_exporter": "python",
   "pygments_lexer": "ipython3",
   "version": "3.10.6"
  }
 },
 "nbformat": 4,
 "nbformat_minor": 4
}
